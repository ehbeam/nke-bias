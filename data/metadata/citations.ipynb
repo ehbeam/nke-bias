{
 "cells": [
  {
   "cell_type": "code",
   "execution_count": 1,
   "metadata": {},
   "outputs": [],
   "source": [
    "import pandas as pd\n",
    "import httplib2, requests\n",
    "from bs4 import BeautifulSoup"
   ]
  },
  {
   "cell_type": "markdown",
   "metadata": {},
   "source": [
    "# Load PMIDs"
   ]
  },
  {
   "cell_type": "code",
   "execution_count": 2,
   "metadata": {},
   "outputs": [
    {
     "data": {
      "text/html": [
       "<div>\n",
       "<style scoped>\n",
       "    .dataframe tbody tr th:only-of-type {\n",
       "        vertical-align: middle;\n",
       "    }\n",
       "\n",
       "    .dataframe tbody tr th {\n",
       "        vertical-align: top;\n",
       "    }\n",
       "\n",
       "    .dataframe thead th {\n",
       "        text-align: right;\n",
       "    }\n",
       "</style>\n",
       "<table border=\"1\" class=\"dataframe\">\n",
       "  <thead>\n",
       "    <tr style=\"text-align: right;\">\n",
       "      <th></th>\n",
       "      <th>PMID</th>\n",
       "      <th>DOI</th>\n",
       "      <th>KEY</th>\n",
       "      <th>SOURCE</th>\n",
       "      <th>AUTHORS</th>\n",
       "      <th>YEAR</th>\n",
       "      <th>MONTH</th>\n",
       "      <th>JOURNAL</th>\n",
       "      <th>TITLE</th>\n",
       "      <th>PAGES</th>\n",
       "      <th>...</th>\n",
       "      <th>NUM_COORDINATES</th>\n",
       "      <th>MNI_COORDINATES</th>\n",
       "      <th>BRAINMAP_ID</th>\n",
       "      <th>BEHAVIORAL_DOMAIN</th>\n",
       "      <th>EXPERIMENT</th>\n",
       "      <th>DESCRIPTION</th>\n",
       "      <th>IMPACT_FACTOR_2018</th>\n",
       "      <th>CITATIONS</th>\n",
       "      <th>CITATIONS_PER_YEAR</th>\n",
       "      <th>N_SUBJECTS</th>\n",
       "    </tr>\n",
       "  </thead>\n",
       "  <tbody>\n",
       "    <tr>\n",
       "      <th>0</th>\n",
       "      <td>1402966</td>\n",
       "      <td>NaN</td>\n",
       "      <td>Dolan R J, 1992</td>\n",
       "      <td>BrainMap</td>\n",
       "      <td>Dolan R J|Bench C J|Brown R G|Scott L C|Fristo...</td>\n",
       "      <td>1992</td>\n",
       "      <td>Sep</td>\n",
       "      <td>JOURNAL OF NEUROLOGY NEUROSURGERY &amp; PSYCHIATRY</td>\n",
       "      <td>Regional cerebral blood flow abnormalities in ...</td>\n",
       "      <td>768-773</td>\n",
       "      <td>...</td>\n",
       "      <td>7.0</td>\n",
       "      <td>-7.66,51.87,-8.33;-5.51,56.46,-4.28;-5.48,58.9...</td>\n",
       "      <td>6030020.0</td>\n",
       "      <td>['Action.Rest', 'Action.Rest']</td>\n",
       "      <td>['Unimpaired &gt; Impaired', 'Impaired &gt; Unimpair...</td>\n",
       "      <td>Patients with depression who were cognitively ...</td>\n",
       "      <td>8.327</td>\n",
       "      <td>20</td>\n",
       "      <td>0.740741</td>\n",
       "      <td>10.0</td>\n",
       "    </tr>\n",
       "    <tr>\n",
       "      <th>1</th>\n",
       "      <td>1410086</td>\n",
       "      <td>NaN</td>\n",
       "      <td>Bench C J, 1992</td>\n",
       "      <td>BrainMap</td>\n",
       "      <td>Bench C J|Friston K J|Brown R G|Scott L C|Frac...</td>\n",
       "      <td>1992</td>\n",
       "      <td>Aug</td>\n",
       "      <td>PSYCHOLOGICAL MEDICINE</td>\n",
       "      <td>The anatomy of melancholia - focal abnormaliti...</td>\n",
       "      <td>607-615</td>\n",
       "      <td>...</td>\n",
       "      <td>10.0</td>\n",
       "      <td>-13.68,29.54,33.76;-15.76,23.53,38.75;-39.5,38...</td>\n",
       "      <td>6030018.0</td>\n",
       "      <td>['Action.Rest', 'Action.Rest', 'Action.Rest']</td>\n",
       "      <td>['Normals &gt; Depressed', 'Unimpaired &gt; Impaired...</td>\n",
       "      <td>Patients with depression and normal subjects u...</td>\n",
       "      <td>5.641</td>\n",
       "      <td>91</td>\n",
       "      <td>3.370370</td>\n",
       "      <td>10.0</td>\n",
       "    </tr>\n",
       "    <tr>\n",
       "      <th>2</th>\n",
       "      <td>1448149</td>\n",
       "      <td>10.1038/360339a0</td>\n",
       "      <td>Zatorre R J, 1992</td>\n",
       "      <td>BrainMap</td>\n",
       "      <td>Zatorre R J|Jones-Gotman M|Evans A C|Meyer E</td>\n",
       "      <td>1992</td>\n",
       "      <td>Nov</td>\n",
       "      <td>NATURE</td>\n",
       "      <td>Functional localization and lateralization of ...</td>\n",
       "      <td>339-340</td>\n",
       "      <td>...</td>\n",
       "      <td>6.0</td>\n",
       "      <td>-21.56,5.58,-27.71;22.3,6.36,-21.58;18.98,41.4...</td>\n",
       "      <td>8110311.0</td>\n",
       "      <td>['Perception.Olfaction']</td>\n",
       "      <td>['Odor vs. Odorless']</td>\n",
       "      <td>Subjects underwent 2 conditions in which they ...</td>\n",
       "      <td>43.070</td>\n",
       "      <td>73</td>\n",
       "      <td>2.703704</td>\n",
       "      <td>11.0</td>\n",
       "    </tr>\n",
       "  </tbody>\n",
       "</table>\n",
       "<p>3 rows × 22 columns</p>\n",
       "</div>"
      ],
      "text/plain": [
       "      PMID               DOI                KEY    SOURCE  \\\n",
       "0  1402966               NaN    Dolan R J, 1992  BrainMap   \n",
       "1  1410086               NaN    Bench C J, 1992  BrainMap   \n",
       "2  1448149  10.1038/360339a0  Zatorre R J, 1992  BrainMap   \n",
       "\n",
       "                                             AUTHORS  YEAR MONTH  \\\n",
       "0  Dolan R J|Bench C J|Brown R G|Scott L C|Fristo...  1992   Sep   \n",
       "1  Bench C J|Friston K J|Brown R G|Scott L C|Frac...  1992   Aug   \n",
       "2       Zatorre R J|Jones-Gotman M|Evans A C|Meyer E  1992   Nov   \n",
       "\n",
       "                                          JOURNAL  \\\n",
       "0  JOURNAL OF NEUROLOGY NEUROSURGERY & PSYCHIATRY   \n",
       "1                          PSYCHOLOGICAL MEDICINE   \n",
       "2                                          NATURE   \n",
       "\n",
       "                                               TITLE    PAGES  ...  \\\n",
       "0  Regional cerebral blood flow abnormalities in ...  768-773  ...   \n",
       "1  The anatomy of melancholia - focal abnormaliti...  607-615  ...   \n",
       "2  Functional localization and lateralization of ...  339-340  ...   \n",
       "\n",
       "  NUM_COORDINATES                                    MNI_COORDINATES  \\\n",
       "0             7.0  -7.66,51.87,-8.33;-5.51,56.46,-4.28;-5.48,58.9...   \n",
       "1            10.0  -13.68,29.54,33.76;-15.76,23.53,38.75;-39.5,38...   \n",
       "2             6.0  -21.56,5.58,-27.71;22.3,6.36,-21.58;18.98,41.4...   \n",
       "\n",
       "   BRAINMAP_ID                              BEHAVIORAL_DOMAIN  \\\n",
       "0    6030020.0                 ['Action.Rest', 'Action.Rest']   \n",
       "1    6030018.0  ['Action.Rest', 'Action.Rest', 'Action.Rest']   \n",
       "2    8110311.0                       ['Perception.Olfaction']   \n",
       "\n",
       "                                          EXPERIMENT  \\\n",
       "0  ['Unimpaired > Impaired', 'Impaired > Unimpair...   \n",
       "1  ['Normals > Depressed', 'Unimpaired > Impaired...   \n",
       "2                              ['Odor vs. Odorless']   \n",
       "\n",
       "                                         DESCRIPTION IMPACT_FACTOR_2018  \\\n",
       "0  Patients with depression who were cognitively ...              8.327   \n",
       "1  Patients with depression and normal subjects u...              5.641   \n",
       "2  Subjects underwent 2 conditions in which they ...             43.070   \n",
       "\n",
       "  CITATIONS  CITATIONS_PER_YEAR  N_SUBJECTS  \n",
       "0        20            0.740741        10.0  \n",
       "1        91            3.370370        10.0  \n",
       "2        73            2.703704        11.0  \n",
       "\n",
       "[3 rows x 22 columns]"
      ]
     },
     "execution_count": 2,
     "metadata": {},
     "output_type": "execute_result"
    }
   ],
   "source": [
    "df = pd.read_csv(\"metadata.csv\", encoding=\"latin-1\")\n",
    "df.head(3)"
   ]
  },
  {
   "cell_type": "code",
   "execution_count": 3,
   "metadata": {},
   "outputs": [
    {
     "data": {
      "text/plain": [
       "18155"
      ]
     },
     "execution_count": 3,
     "metadata": {},
     "output_type": "execute_result"
    }
   ],
   "source": [
    "pmids = list(df[\"PMID\"].astype(int))\n",
    "len(pmids)"
   ]
  },
  {
   "cell_type": "markdown",
   "metadata": {},
   "source": [
    "# Retrieve citation counts"
   ]
  },
  {
   "cell_type": "code",
   "execution_count": 4,
   "metadata": {
    "scrolled": false
   },
   "outputs": [
    {
     "name": "stdout",
     "output_type": "stream",
     "text": [
      "Processed 0 articles\n",
      "Processed 500 articles\n",
      "Processed 1000 articles\n",
      "Processed 1500 articles\n",
      "Processed 2000 articles\n",
      "Processed 2500 articles\n",
      "Processed 3000 articles\n",
      "Processed 3500 articles\n",
      "Processed 4000 articles\n",
      "Processed 4500 articles\n",
      "Processed 5000 articles\n",
      "Processed 5500 articles\n",
      "Processed 6000 articles\n",
      "Processed 6500 articles\n",
      "Processed 7000 articles\n",
      "Processed 7500 articles\n",
      "Processed 8000 articles\n",
      "Processed 8500 articles\n",
      "Processed 9000 articles\n",
      "Processed 9500 articles\n",
      "Processed 10000 articles\n",
      "Processed 10500 articles\n",
      "Processed 11000 articles\n",
      "Processed 11500 articles\n",
      "Processed 12000 articles\n",
      "Processed 12500 articles\n",
      "Processed 13000 articles\n",
      "Processed 13500 articles\n",
      "Processed 14000 articles\n",
      "Processed 14500 articles\n",
      "Processed 15000 articles\n",
      "Processed 15500 articles\n",
      "Processed 16000 articles\n",
      "Processed 16500 articles\n",
      "Processed 17000 articles\n",
      "Processed 17500 articles\n",
      "Processed 18000 articles\n"
     ]
    }
   ],
   "source": [
    "pmid2citations = {}\n",
    "http = httplib2.Http(\".cache\", disable_ssl_certificate_validation = True)\n",
    "for i, pmid in enumerate(pmids):\n",
    "    url = \"https://eutils.ncbi.nlm.nih.gov/entrez/eutils/esummary.fcgi?db=pubmed&id={}\".format(int(pmid))\n",
    "    try:\n",
    "        response = BeautifulSoup(requests.get(url).text)\n",
    "        citations = int(response.find(attrs={\"name\": \"PmcRefCount\"}).text.strip())\n",
    "        pmid2citations[pmid] = citations\n",
    "    except:\n",
    "        print(\"\\tUnable to retrieve citation count for {}\".format(pmid))\n",
    "        pmid2citations[pmid] = \"\"\n",
    "    if i % 500 == 0:\n",
    "        print(\"Processed {} articles\".format(i))"
   ]
  },
  {
   "cell_type": "code",
   "execution_count": 5,
   "metadata": {},
   "outputs": [],
   "source": [
    "citations = [pmid2citations[pmid] for pmid in pmids]\n",
    "citations_per_year = citations / (2020 - df[\"YEAR\"])"
   ]
  },
  {
   "cell_type": "markdown",
   "metadata": {},
   "source": [
    "# Save to file"
   ]
  },
  {
   "cell_type": "code",
   "execution_count": 6,
   "metadata": {},
   "outputs": [],
   "source": [
    "date = 200711"
   ]
  },
  {
   "cell_type": "code",
   "execution_count": 7,
   "metadata": {},
   "outputs": [],
   "source": [
    "output = pd.DataFrame({\"PMID\": pmids, \n",
    "                       \"CITATIONS\": citations, \n",
    "                       \"YEAR\": df[\"YEAR\"],\n",
    "                       \"CITATIONS_PER_YEAR\": citations_per_year})\n",
    "output.to_csv(\"citations_{}.csv\".format(date), index=None)"
   ]
  },
  {
   "cell_type": "code",
   "execution_count": 8,
   "metadata": {},
   "outputs": [],
   "source": [
    "df[\"CITATIONS\"] = citations\n",
    "df[\"CITATIONS_PER_YEAR\"] = citations_per_year"
   ]
  },
  {
   "cell_type": "code",
   "execution_count": 9,
   "metadata": {},
   "outputs": [],
   "source": [
    "df.to_csv(\"metadata.csv\", index=None)"
   ]
  },
  {
   "cell_type": "code",
   "execution_count": null,
   "metadata": {},
   "outputs": [],
   "source": []
  }
 ],
 "metadata": {
  "kernelspec": {
   "display_name": "Python [conda env:ontol] *",
   "language": "python",
   "name": "conda-env-ontol-py"
  },
  "language_info": {
   "codemirror_mode": {
    "name": "ipython",
    "version": 3
   },
   "file_extension": ".py",
   "mimetype": "text/x-python",
   "name": "python",
   "nbconvert_exporter": "python",
   "pygments_lexer": "ipython3",
   "version": "3.6.8"
  }
 },
 "nbformat": 4,
 "nbformat_minor": 2
}
