{
 "cells": [
  {
   "cell_type": "code",
   "execution_count": 1,
   "metadata": {},
   "outputs": [],
   "source": [
    "import pandas as pd"
   ]
  },
  {
   "cell_type": "markdown",
   "metadata": {},
   "source": [
    "# Load anatomical terms"
   ]
  },
  {
   "cell_type": "code",
   "execution_count": 2,
   "metadata": {},
   "outputs": [],
   "source": [
    "coords = pd.read_csv(\"../brain/coordinates.csv\", index_col=0)"
   ]
  },
  {
   "cell_type": "code",
   "execution_count": 9,
   "metadata": {},
   "outputs": [],
   "source": [
    "to_remove = [\"left_\", \"right_\", \"_crus\", \"_lobules\", \"_vermis\"]"
   ]
  },
  {
   "cell_type": "code",
   "execution_count": 10,
   "metadata": {},
   "outputs": [
    {
     "data": {
      "text/plain": [
       "57"
      ]
     },
     "execution_count": 10,
     "metadata": {},
     "output_type": "execute_result"
    }
   ],
   "source": [
    "terms = set()\n",
    "for term in coords.columns:\n",
    "    for part in to_remove:\n",
    "        term = term.replace(part, \"\").replace(\"cerebellar\", \"cerebellum\")\n",
    "    terms.add(term)\n",
    "terms = sorted(list(terms))\n",
    "len(terms)"
   ]
  },
  {
   "cell_type": "code",
   "execution_count": 11,
   "metadata": {},
   "outputs": [
    {
     "name": "stdout",
     "output_type": "stream",
     "text": [
      "accumbens\n",
      "amygdala\n",
      "angular_gyrus\n",
      "brainstem\n",
      "caudate\n",
      "central_opercular_cortex\n",
      "cerebellum\n",
      "cingulate_gyrus_anterior_division\n",
      "cingulate_gyrus_posterior_division\n",
      "cuneal_cortex\n",
      "frontal_medial_cortex\n",
      "frontal_operculum_cortex\n",
      "frontal_orbital_cortex\n",
      "frontal_pole\n",
      "heschls_gyrus\n",
      "hippocampus\n",
      "inferior_frontal_gyrus_pars_opercularis\n",
      "inferior_frontal_gyrus_pars_triangularis\n",
      "inferior_temporal_gyrus_anterior_division\n",
      "inferior_temporal_gyrus_posterior_division\n",
      "inferior_temporal_gyrus_temporooccipital_part\n",
      "insular_cortex\n",
      "intracalcarine_cortex\n",
      "lateral_occipital_cortex_inferior_division\n",
      "lateral_occipital_cortex_superior_division\n",
      "lingual_gyrus\n",
      "middle_frontal_gyrus\n",
      "middle_temporal_gyrus_anterior_division\n",
      "middle_temporal_gyrus_posterior_division\n",
      "middle_temporal_gyrus_temporooccipital_part\n",
      "occipital_fusiform_gyrus\n",
      "occipital_pole\n",
      "pallidum\n",
      "paracingulate_gyrus\n",
      "parahippocampal_gyrus_anterior_division\n",
      "parahippocampal_gyrus_posterior_division\n",
      "parietal_operculum_cortex\n",
      "planum_polare\n",
      "planum_temporale\n",
      "postcentral_gyrus\n",
      "precentral_gyrus\n",
      "precuneous_cortex\n",
      "putamen\n",
      "subcallosal_cortex\n",
      "superior_frontal_gyrus\n",
      "superior_parietal_lobule\n",
      "superior_temporal_gyrus_anterior_division\n",
      "superior_temporal_gyrus_posterior_division\n",
      "supplementary_motor_cortex\n",
      "supracalcarine_cortex\n",
      "supramarginal_gyrus_anterior_division\n",
      "supramarginal_gyrus_posterior_division\n",
      "temporal_fusiform_cortex_anterior_division\n",
      "temporal_fusiform_cortex_posterior_division\n",
      "temporal_occipital_fusiform_cortex\n",
      "temporal_pole\n",
      "thalamus\n"
     ]
    }
   ],
   "source": [
    "with open(\"../lexicon/lexicon_harvard-oxford.txt\", \"w+\") as outfile:\n",
    "    for term in terms:\n",
    "        print(term)\n",
    "        outfile.write(term + \"\\n\")"
   ]
  },
  {
   "cell_type": "markdown",
   "metadata": {},
   "source": [
    "# Load word embeddings"
   ]
  },
  {
   "cell_type": "code",
   "execution_count": 7,
   "metadata": {},
   "outputs": [
    {
     "name": "stdout",
     "output_type": "stream",
     "text": [
      "Vocab N=351530, Embedding N=100\n"
     ]
    }
   ],
   "source": [
    "vsm_version = \"bias\"\n",
    "vsm = pd.read_csv(\"glove_gen_anat_n100_win15_min5_iter500_{}.txt\".format(vsm_version), \n",
    "                    index_col=0, header=None, sep=\" \")\n",
    "print(\"Vocab N={}, Embedding N={}\".format(vsm.shape[0], vsm.shape[1]))"
   ]
  },
  {
   "cell_type": "code",
   "execution_count": 20,
   "metadata": {},
   "outputs": [
    {
     "data": {
      "text/plain": [
       "52"
      ]
     },
     "execution_count": 20,
     "metadata": {},
     "output_type": "execute_result"
    }
   ],
   "source": [
    "terms = list(vsm.index.intersection(terms))\n",
    "len(terms)"
   ]
  },
  {
   "cell_type": "markdown",
   "metadata": {},
   "source": [
    "# Identify candidate synonyms"
   ]
  },
  {
   "cell_type": "code",
   "execution_count": 13,
   "metadata": {},
   "outputs": [],
   "source": [
    "from scipy.spatial.distance import cdist"
   ]
  },
  {
   "cell_type": "code",
   "execution_count": 41,
   "metadata": {},
   "outputs": [],
   "source": [
    "exclude = [\"frontal\", \"parietal\", \"temporal\", \"occipital\", \n",
    "           \"superior\", \"middle\", \"inferior\", \"medial\", \"lateral\", \"anterior\", \"posterior\"]"
   ]
  },
  {
   "cell_type": "code",
   "execution_count": 46,
   "metadata": {},
   "outputs": [],
   "source": [
    "synonyms = {}\n",
    "for term in terms:\n",
    "    dists = cdist(vsm.loc[term].values.reshape(1,vsm.shape[1]), vsm.values, metric=\"cosine\")\n",
    "    candidates = list(pd.Series(dists[0], index=vsm.index).sort_values().index[:20])\n",
    "    candidates = [cand for cand in candidates if ((len(cand) <= 3 and cand[0] == term[0]) or (cand[:5] == term[:5])) and cand not in terms and cand not in exclude]\n",
    "    if len(candidates) > 0:\n",
    "        synonyms[term] = candidates"
   ]
  },
  {
   "cell_type": "code",
   "execution_count": 47,
   "metadata": {},
   "outputs": [
    {
     "data": {
      "text/plain": [
       "{'amygdala': ['amygdalar'],\n",
       " 'hippocampus': ['hippocampal', 'hippocampal_formation'],\n",
       " 'cerebellum': ['cerebellar'],\n",
       " 'thalamus': ['thalamic'],\n",
       " 'middle_frontal_gyrus': ['mfg'],\n",
       " 'caudate': ['caudate_nucleus', 'caudate_head', 'caudate_nucleus_putamen'],\n",
       " 'precentral_gyrus': ['precentral'],\n",
       " 'superior_frontal_gyrus': ['sfg'],\n",
       " 'postcentral_gyrus': ['postcentral'],\n",
       " 'lingual_gyrus': ['lingual'],\n",
       " 'superior_parietal_lobule': ['spl', 'superior_parietal_gyrus'],\n",
       " 'brainstem': ['brain_stem'],\n",
       " 'insular_cortex': ['insula', 'insular', 'insular_region'],\n",
       " 'frontal_pole': ['frontopolar', 'frontal_operculum'],\n",
       " 'heschls_gyrus': ['heschl', 'hg', 'heschls'],\n",
       " 'planum_temporale': ['planum'],\n",
       " 'supplementary_motor_cortex': ['supplementary_motor_area', 'sma'],\n",
       " 'paracingulate_gyrus': ['paracingulate', 'paracentral'],\n",
       " 'planum_polare': ['planum'],\n",
       " 'subcallosal_cortex': ['subcallosal'],\n",
       " 'frontal_medial_cortex': ['fmc'],\n",
       " 'precuneous_cortex': ['precuneous'],\n",
       " 'frontal_operculum_cortex': ['frontal_operculumanterior']}"
      ]
     },
     "execution_count": 47,
     "metadata": {},
     "output_type": "execute_result"
    }
   ],
   "source": [
    "synonyms"
   ]
  },
  {
   "cell_type": "code",
   "execution_count": null,
   "metadata": {},
   "outputs": [],
   "source": []
  }
 ],
 "metadata": {
  "kernelspec": {
   "display_name": "Python [conda env:ontol] *",
   "language": "python",
   "name": "conda-env-ontol-py"
  },
  "language_info": {
   "codemirror_mode": {
    "name": "ipython",
    "version": 3
   },
   "file_extension": ".py",
   "mimetype": "text/x-python",
   "name": "python",
   "nbconvert_exporter": "python",
   "pygments_lexer": "ipython3",
   "version": "3.6.8"
  }
 },
 "nbformat": 4,
 "nbformat_minor": 2
}
