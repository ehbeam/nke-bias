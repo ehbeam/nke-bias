{
 "cells": [
  {
   "cell_type": "markdown",
   "metadata": {},
   "source": [
    "# Anatomical terms\n",
    "\n",
    "Most preprocessing was carried out for the neuro-knowledge-engine repo. Here, we're going to perform additional preprocessing of anatomical terms so we can compare their occurrences in full texts, abstracts, and coordinate data.\n",
    "\n",
    "## Load the terms"
   ]
  },
  {
   "cell_type": "code",
   "execution_count": 1,
   "metadata": {},
   "outputs": [],
   "source": [
    "import pandas as pd"
   ]
  },
  {
   "cell_type": "code",
   "execution_count": 2,
   "metadata": {},
   "outputs": [
    {
     "data": {
      "text/html": [
       "<div>\n",
       "<style scoped>\n",
       "    .dataframe tbody tr th:only-of-type {\n",
       "        vertical-align: middle;\n",
       "    }\n",
       "\n",
       "    .dataframe tbody tr th {\n",
       "        vertical-align: top;\n",
       "    }\n",
       "\n",
       "    .dataframe thead th {\n",
       "        text-align: right;\n",
       "    }\n",
       "</style>\n",
       "<table border=\"1\" class=\"dataframe\">\n",
       "  <thead>\n",
       "    <tr style=\"text-align: right;\">\n",
       "      <th></th>\n",
       "      <th>HARVARD_OXFORD</th>\n",
       "      <th>TERMS</th>\n",
       "      <th>SOURCE</th>\n",
       "      <th>TYPE</th>\n",
       "    </tr>\n",
       "  </thead>\n",
       "  <tbody>\n",
       "    <tr>\n",
       "      <th>0</th>\n",
       "      <td>accumbens</td>\n",
       "      <td>accumbens</td>\n",
       "      <td>Harvard-Oxford</td>\n",
       "      <td>term</td>\n",
       "    </tr>\n",
       "    <tr>\n",
       "      <th>1</th>\n",
       "      <td>accumbens</td>\n",
       "      <td>acb</td>\n",
       "      <td>NeuroNames</td>\n",
       "      <td>acronym</td>\n",
       "    </tr>\n",
       "    <tr>\n",
       "      <th>2</th>\n",
       "      <td>accumbens</td>\n",
       "      <td>nucleus accumbens</td>\n",
       "      <td>NeuroNames</td>\n",
       "      <td>term</td>\n",
       "    </tr>\n",
       "    <tr>\n",
       "      <th>3</th>\n",
       "      <td>accumbens</td>\n",
       "      <td>accumbens nucleus</td>\n",
       "      <td>NeuroNames</td>\n",
       "      <td>term</td>\n",
       "    </tr>\n",
       "    <tr>\n",
       "      <th>4</th>\n",
       "      <td>accumbens</td>\n",
       "      <td>nucleus accumbens septi</td>\n",
       "      <td>NeuroNames</td>\n",
       "      <td>term</td>\n",
       "    </tr>\n",
       "  </tbody>\n",
       "</table>\n",
       "</div>"
      ],
      "text/plain": [
       "  HARVARD_OXFORD                    TERMS          SOURCE     TYPE\n",
       "0      accumbens                accumbens  Harvard-Oxford     term\n",
       "1      accumbens                      acb      NeuroNames  acronym\n",
       "2      accumbens        nucleus accumbens      NeuroNames     term\n",
       "3      accumbens        accumbens nucleus      NeuroNames     term\n",
       "4      accumbens  nucleus accumbens septi      NeuroNames     term"
      ]
     },
     "execution_count": 2,
     "metadata": {},
     "output_type": "execute_result"
    }
   ],
   "source": [
    "anat = pd.read_csv(\"../lexicon/lexicon_brain.csv\", index_col=None)\n",
    "anat.head()"
   ]
  },
  {
   "cell_type": "markdown",
   "metadata": {},
   "source": [
    "## Preprocess the terms"
   ]
  },
  {
   "cell_type": "code",
   "execution_count": 3,
   "metadata": {},
   "outputs": [],
   "source": [
    "import preproc"
   ]
  },
  {
   "cell_type": "code",
   "execution_count": 4,
   "metadata": {
    "scrolled": false
   },
   "outputs": [
    {
     "data": {
      "text/plain": [
       "['accumbens',\n",
       " 'acb',\n",
       " 'nucleus accumbens',\n",
       " 'accumbens nucleus',\n",
       " 'nucleus accumbens septi']"
      ]
     },
     "execution_count": 4,
     "metadata": {},
     "output_type": "execute_result"
    }
   ],
   "source": [
    "terms = []\n",
    "for term in anat[\"TERMS\"]:\n",
    "    term = preproc.preprocess_text(term)\n",
    "    terms.append(term)\n",
    "terms[:5]"
   ]
  },
  {
   "cell_type": "markdown",
   "metadata": {},
   "source": [
    "## Identify n-grams"
   ]
  },
  {
   "cell_type": "code",
   "execution_count": 5,
   "metadata": {},
   "outputs": [
    {
     "data": {
      "text/plain": [
       "211"
      ]
     },
     "execution_count": 5,
     "metadata": {},
     "output_type": "execute_result"
    }
   ],
   "source": [
    "ngrams = [term for term in terms if \" \" in term]\n",
    "len(ngrams)"
   ]
  },
  {
   "cell_type": "markdown",
   "metadata": {},
   "source": [
    "# PubMed corpus\n",
    "\n",
    "This corpus will be used to train GloVe embeddings.\n",
    "\n",
    "## Load PMIDs"
   ]
  },
  {
   "cell_type": "code",
   "execution_count": 6,
   "metadata": {},
   "outputs": [],
   "source": [
    "import os, shutil"
   ]
  },
  {
   "cell_type": "code",
   "execution_count": 7,
   "metadata": {},
   "outputs": [
    {
     "data": {
      "text/plain": [
       "20504"
      ]
     },
     "execution_count": 7,
     "metadata": {},
     "output_type": "execute_result"
    }
   ],
   "source": [
    "pubmed_pmids = [int(pmid.strip()) for pmid in open(\"../../../pubmed/query_190428/pmids.txt\").readlines()]\n",
    "text_pmids = [int(file.replace(\".txt\", \"\")) for file in os.listdir(\"../../../nlp/corpus\") if not file.startswith(\".\")]\n",
    "pubmed_pmids = list(set(pubmed_pmids).intersection(set(text_pmids)))\n",
    "len(pubmed_pmids)"
   ]
  },
  {
   "cell_type": "code",
   "execution_count": 8,
   "metadata": {},
   "outputs": [
    {
     "data": {
      "text/plain": [
       "18155"
      ]
     },
     "execution_count": 8,
     "metadata": {},
     "output_type": "execute_result"
    }
   ],
   "source": [
    "df = pd.read_csv(\"../metadata/metadata.csv\", encoding=\"latin-1\")\n",
    "coord_pmids = [int(pmid) for pmid in df[\"PMID\"]]\n",
    "len(coord_pmids)"
   ]
  },
  {
   "cell_type": "code",
   "execution_count": 9,
   "metadata": {},
   "outputs": [
    {
     "data": {
      "text/plain": [
       "29828"
      ]
     },
     "execution_count": 9,
     "metadata": {},
     "output_type": "execute_result"
    }
   ],
   "source": [
    "pmids = list(set(pubmed_pmids).union(set(coord_pmids)))\n",
    "len(pmids)"
   ]
  },
  {
   "cell_type": "code",
   "execution_count": 10,
   "metadata": {},
   "outputs": [],
   "source": [
    "path = \"../../../nlp/corpus\"\n",
    "for pmid in pmids:\n",
    "    shutil.copyfile(\"{}/{}.txt\".format(path, pmid), \"pubmed/{}.txt\".format(pmid))"
   ]
  },
  {
   "cell_type": "markdown",
   "metadata": {},
   "source": [
    "## Consolidate n-grams"
   ]
  },
  {
   "cell_type": "code",
   "execution_count": 11,
   "metadata": {},
   "outputs": [],
   "source": [
    "preproc.run_preproc(\"pubmed\", pmids, ngrams=ngrams, \n",
    "                    preproc_texts=False, preproc_ngrams=True)"
   ]
  },
  {
   "cell_type": "markdown",
   "metadata": {},
   "source": [
    "## Concatenate files"
   ]
  },
  {
   "cell_type": "code",
   "execution_count": 12,
   "metadata": {},
   "outputs": [],
   "source": [
    "with open(\"corpus_bias.txt\", \"w+\") as outfile:\n",
    "    for pmid in pmids:\n",
    "        text = open(\"pubmed/{}.txt\".format(pmid), \"r\").read()\n",
    "        outfile.write(text)"
   ]
  },
  {
   "cell_type": "markdown",
   "metadata": {},
   "source": [
    "# Full text corpus"
   ]
  },
  {
   "cell_type": "code",
   "execution_count": 13,
   "metadata": {},
   "outputs": [
    {
     "data": {
      "text/plain": [
       "18155"
      ]
     },
     "execution_count": 13,
     "metadata": {},
     "output_type": "execute_result"
    }
   ],
   "source": [
    "pmids = df[\"PMID\"].astype(int)\n",
    "len(pmids)"
   ]
  },
  {
   "cell_type": "code",
   "execution_count": 14,
   "metadata": {},
   "outputs": [],
   "source": [
    "path = \"../../../nlp/corpus\"\n",
    "for pmid in pmids:\n",
    "    shutil.copyfile(\"{}/{}.txt\".format(path, pmid), \"fulltexts/{}.txt\".format(pmid))"
   ]
  },
  {
   "cell_type": "code",
   "execution_count": 15,
   "metadata": {},
   "outputs": [],
   "source": [
    "preproc.run_preproc(\"fulltexts\", pmids, ngrams=ngrams, preproc_texts=False, preproc_ngrams=True)"
   ]
  },
  {
   "cell_type": "markdown",
   "metadata": {},
   "source": [
    "# Abstract corpus\n",
    "\n",
    "These have not previously been preprocessed, so we will carry out all the steps that the PubMed and full text corpora had been subjected to. These included:\n",
    "\n",
    "1. Lowercasing\n",
    "2. Removal of symbols\n",
    "3. Lemmatization\n",
    "4. Consolidation of n-grams (psychological and neuroanatomical)\n",
    "\n",
    "## Basic preprocessing"
   ]
  },
  {
   "cell_type": "code",
   "execution_count": 16,
   "metadata": {},
   "outputs": [],
   "source": [
    "ngrams_anat = ngrams\n",
    "ngrams_rdoc = [word.strip().replace(\"_\", \" \") for word in open(\"../lexicon/lexicon_rdoc.txt\", \"r\").readlines() if \"_\" in word]\n",
    "ngrams_cogneuro = [word.strip().replace(\"_\", \" \") for word in open(\"../lexicon/lexicon_cogneuro.txt\", \"r\").readlines() if \"_\" in word]\n",
    "ngrams_dsm = [word.strip().replace(\"_\", \" \") for word in open(\"../lexicon/lexicon_dsm.txt\", \"r\").readlines() if \"_\" in word]\n",
    "ngrams_psych = [word.strip().replace(\"_\", \" \") for word in open(\"../lexicon/lexicon_psychiatry.txt\", \"r\").readlines() if \"_\" in word]\n",
    "ngrams = list(set(ngrams_anat + ngrams_rdoc + ngrams_cogneuro + ngrams_dsm + ngrams_psych))\n",
    "ngrams.sort(key = lambda x: x.count(\" \"), reverse = True)"
   ]
  },
  {
   "cell_type": "code",
   "execution_count": 17,
   "metadata": {},
   "outputs": [],
   "source": [
    "preproc.run_preproc(\"abstracts\", pmids, ngrams=ngrams, preproc_texts=True, preproc_ngrams=True)"
   ]
  },
  {
   "cell_type": "markdown",
   "metadata": {},
   "source": [
    "## Removal of metadata"
   ]
  },
  {
   "cell_type": "code",
   "execution_count": 4,
   "metadata": {},
   "outputs": [],
   "source": [
    "import os"
   ]
  },
  {
   "cell_type": "code",
   "execution_count": 14,
   "metadata": {},
   "outputs": [],
   "source": [
    "abstracts = [file for file in os.listdir(\"abstracts\") if not file.startswith(\".\")]\n",
    "for abstract in abstracts:\n",
    "    file = \"abstracts/{}\".format(abstract)\n",
    "    text = open(file, \"r\").read()\n",
    "    text = \" . \".join(text.split(\" . \")[3:])\n",
    "    text = text.split(\" pmid \")[0].split(\" pmcid \")[0].split(\" doi \")[0].split(\" copyright \")[0]\n",
    "    with open(file, \"w+\") as outfile:\n",
    "        outfile.write(text)"
   ]
  },
  {
   "cell_type": "code",
   "execution_count": null,
   "metadata": {},
   "outputs": [],
   "source": []
  }
 ],
 "metadata": {
  "kernelspec": {
   "display_name": "Python [conda env:ontol] *",
   "language": "python",
   "name": "conda-env-ontol-py"
  },
  "language_info": {
   "codemirror_mode": {
    "name": "ipython",
    "version": 3
   },
   "file_extension": ".py",
   "mimetype": "text/x-python",
   "name": "python",
   "nbconvert_exporter": "python",
   "pygments_lexer": "ipython3",
   "version": "3.6.8"
  }
 },
 "nbformat": 4,
 "nbformat_minor": 2
}
